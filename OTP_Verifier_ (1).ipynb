{
  "nbformat": 4,
  "nbformat_minor": 0,
  "metadata": {
    "colab": {
      "name": "OTP Verifier .ipynb",
      "provenance": []
    },
    "kernelspec": {
      "name": "python3",
      "display_name": "Python 3"
    },
    "language_info": {
      "name": "python"
    }
  },
  "cells": [
    {
      "cell_type": "code",
      "execution_count": null,
      "metadata": {
        "id": "vqEKRPwa4i6K"
      },
      "outputs": [],
      "source": [
        "from twilio.rest import Client \n",
        "import random\n",
        "from tkinter import *\n",
        "root = Tk()\n",
        "root.mainloop()\n",
        "from tkinter import messagebox\n",
        "class otp_verifier(Tk):\n",
        "    def __init__(self):\n",
        "        super().__init__()\n",
        "        self.geometry(\"600*500\")\n",
        "        self.resizable(False,False)\n",
        "        self.n=random.randint(1000,9999)\n",
        "        self.client=Client(\"\",\"\")\n",
        "        self.client.messages.create(to=[\"\"],from_=\"\",body=self.n)\n",
        "    def Labels(self):\n",
        "        self.c=Canvas(self,bg=\"white\",width=400,height=280)\n",
        "        self.c.place(x=100,y=60)\n",
        "        self.login_Title=Label(self,text=\"OTP Verification\",font=\"bold\",bg=\"white\")\n",
        "        self.login_Title.place(x=210,y=160)\n",
        "    def Entry(self):\n",
        "        self.user_Name=Text(self,borderwidth=2,wrap=\"word\",width=29,height=2)\n",
        "        self.user_Name.place(x=190,y=160)\n",
        "    def Buttons(self):\n",
        "        self.submitButtonImage=PhotoImage(file=r\"C:/Users/User/Desktop/DSA/otp verification/submit.jpg\")\n",
        "        self.submitButton=Button(self,image=self.submitButtonImage,command=self.checkOTP,border=0)\n",
        "        self.submitButton.place(x=208,y=400)\n",
        "        self.resendOTPImage=PhotoImage(file=r\"C:/Users/User/Desktop/DSA/otp verification/download.png\")\n",
        "        self.resendOTPImage=Button(self,image=self.resendOTPImage,command=self.checkOTP,border=0)\n",
        "        self.resendOTPImage.place(x=208,y=400)\n",
        "    def checkOTP(self):\n",
        "        try:\n",
        "            self.userInput=int(self.User_Name.get(1.0,\"end-1c\"))\n",
        "            if self.userInput==self.n:\n",
        "                messagebox.showinfo(\"showinfo\",\"login sucess\")\n",
        "                self.n=\"Done\"\n",
        "            elif self.n==\"Done\":\n",
        "                messagebox.showinfo(\"showinfo\",\"already login\")\n",
        "            else :\n",
        "                messagebox.showinfo(\"show info\",\"wrong otp\")\n",
        "        except:\n",
        "            messagebox.showinfo(\"show info\",\"invalid OTP\")\n",
        "            \n",
        "    def resendOTP(self):\n",
        "        self.n=random.randint(1000,9999)\n",
        "        self.client=Client(\"AC04e674500908e628b5e3208e68a4b999\",\"9fc93e37e17e4e23b163c4fdadf5e0b5\")\n",
        "        self.client.messages.create(to=[\"9552204938\"],from_=\"+12568183024\",body=self.n)\n",
        "    \n",
        "if __name__==\"main\":\n",
        "    window=otp_verifier()\n",
        "    window.Entry()\n",
        "    window.Buttons()\n",
        "    window.Labels()\n",
        "    window.mainloop()"
      ]
    }
  ]
}